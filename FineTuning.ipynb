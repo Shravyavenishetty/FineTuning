{
 "cells": [
  {
   "cell_type": "code",
   "execution_count": null,
   "metadata": {
    "colab": {
     "base_uri": "https://localhost:8080/",
     "height": 3831
    },
    "executionInfo": {
     "elapsed": 102670,
     "status": "ok",
     "timestamp": 1746435910052,
     "user": {
      "displayName": "Venishetty Shravya",
      "userId": "06676049657626120902"
     },
     "user_tz": -330
    },
    "id": "b4QflL7WqzCH",
    "outputId": "990f65d1-bd59-4ec7-ac83-c93fe5907e19"
   },
   "outputs": [],
   "source": [
    "!pip install \"unsloth[kaggle] @ git+https://github.com/unslothai/unsloth.git\""
   ]
  },
  {
   "cell_type": "code",
   "execution_count": null,
   "metadata": {
    "colab": {
     "base_uri": "https://localhost:8080/",
     "height": 0
    },
    "executionInfo": {
     "elapsed": 30827,
     "status": "ok",
     "timestamp": 1746436066152,
     "user": {
      "displayName": "Venishetty Shravya",
      "userId": "06676049657626120902"
     },
     "user_tz": -330
    },
    "id": "zeHp8MwHq1Xh",
    "outputId": "d69f0333-3449-4c96-9ef7-80c5529eb770"
   },
   "outputs": [],
   "source": [
    "!pip install \"git+https://github.com/huggingface/transformers.git\""
   ]
  },
  {
   "cell_type": "code",
   "execution_count": null,
   "metadata": {
    "colab": {
     "base_uri": "https://localhost:8080/",
     "height": 0
    },
    "executionInfo": {
     "elapsed": 2512,
     "status": "ok",
     "timestamp": 1746436167493,
     "user": {
      "displayName": "Venishetty Shravya",
      "userId": "06676049657626120902"
     },
     "user_tz": -330
    },
    "id": "FEKU6wlYsxHc",
    "outputId": "425c8824-7af0-4233-8659-75c2bf918465"
   },
   "outputs": [],
   "source": [
    "!pip install trl"
   ]
  },
  {
   "cell_type": "code",
   "execution_count": null,
   "metadata": {
    "colab": {
     "base_uri": "https://localhost:8080/",
     "height": 0
    },
    "executionInfo": {
     "elapsed": 35671,
     "status": "ok",
     "timestamp": 1746436452714,
     "user": {
      "displayName": "Venishetty Shravya",
      "userId": "06676049657626120902"
     },
     "user_tz": -330
    },
    "id": "7vzMniimtQxa",
    "outputId": "44711c24-44e9-477e-f246-88aa2dbe6f81"
   },
   "outputs": [],
   "source": [
    "!pip install bitsandbytes\n",
    "from unsloth import FastLanguageModel"
   ]
  },
  {
   "cell_type": "code",
   "execution_count": null,
   "metadata": {
    "id": "XKO_JDNhKNS1"
   },
   "outputs": [],
   "source": [
    "from google.colab import drive\n",
    "drive.mount('/content/drive')"
   ]
  },
  {
   "cell_type": "code",
   "execution_count": null,
   "metadata": {
    "executionInfo": {
     "elapsed": 6,
     "status": "ok",
     "timestamp": 1746436925173,
     "user": {
      "displayName": "Venishetty Shravya",
      "userId": "06676049657626120902"
     },
     "user_tz": -330
    },
    "id": "SyqLgQylttGU"
   },
   "outputs": [],
   "source": [
    "import torch\n",
    "from trl import SFTTrainer\n",
    "from transformers import TrainingArguments"
   ]
  },
  {
   "cell_type": "code",
   "execution_count": null,
   "metadata": {
    "executionInfo": {
     "elapsed": 4,
     "status": "ok",
     "timestamp": 1746436952174,
     "user": {
      "displayName": "Venishetty Shravya",
      "userId": "06676049657626120902"
     },
     "user_tz": -330
    },
    "id": "hjZBYjUMwKXT"
   },
   "outputs": [],
   "source": [
    "from datasets import load_dataset"
   ]
  },
  {
   "cell_type": "code",
   "execution_count": null,
   "metadata": {
    "executionInfo": {
     "elapsed": 44,
     "status": "ok",
     "timestamp": 1746438105084,
     "user": {
      "displayName": "Venishetty Shravya",
      "userId": "06676049657626120902"
     },
     "user_tz": -330
    },
    "id": "QGeAovVTwQ9K"
   },
   "outputs": [],
   "source": [
    "max_seq_length = 4096"
   ]
  },
  {
   "cell_type": "code",
   "execution_count": null,
   "metadata": {
    "executionInfo": {
     "elapsed": 18361,
     "status": "ok",
     "timestamp": 1746438125380,
     "user": {
      "displayName": "Venishetty Shravya",
      "userId": "06676049657626120902"
     },
     "user_tz": -330
    },
    "id": "Utcz2_kcwYnn"
   },
   "outputs": [],
   "source": [
    "dataset = load_dataset(\"imdb\",split=\"train\")"
   ]
  },
  {
   "cell_type": "code",
   "execution_count": null,
   "metadata": {
    "colab": {
     "base_uri": "https://localhost:8080/",
     "height": 0
    },
    "executionInfo": {
     "elapsed": 9,
     "status": "ok",
     "timestamp": 1746438132541,
     "user": {
      "displayName": "Venishetty Shravya",
      "userId": "06676049657626120902"
     },
     "user_tz": -330
    },
    "id": "3PFHI6QmxKxF",
    "outputId": "95a98b73-48b4-4153-a27d-f94739d306a5"
   },
   "outputs": [],
   "source": [
    "dataset"
   ]
  },
  {
   "cell_type": "code",
   "execution_count": null,
   "metadata": {
    "colab": {
     "base_uri": "https://localhost:8080/",
     "height": 281,
     "referenced_widgets": [
      "f1cd2734d6704bdd9a000d79b0e80971",
      "72d1420bc35942f5a36f519f3e0b01af",
      "4ebeb7eb4dba42b98acabd2e044d2c8a",
      "7b16693c85d44d789eb61c1860d697e3",
      "a7511d7de99b43c384584ee1e9fb7fc8",
      "bbe43369b4b24a9d9f6b296899b1f91d",
      "da3580b2f6af4d51a8d931a7880293b1",
      "15849baa658c4cd8a1bc400a7718fd84",
      "ea69b75f4dba4a85a5875d40ad5f3f4f",
      "20862ed374df4961990ac137850f68ea",
      "429066c137de4209b4882744ed83f4ed",
      "fc825f793bf04ff2ab3463c4c09dce91",
      "1a9893d70c9041d08d9d4c38eda576e8",
      "4a0d8b50f1d447bc95c87f438650b9df",
      "c42882bbc014431f9cc5ce708da31e2d",
      "3c897a56e3dd40229ba74d0cf1bfaf43",
      "54a65cb294cc461c83b2ecbcd16955f5",
      "896f3a107d98481b8f6fb6c636697707",
      "6cb1da67eedc41669af77654e631ca83",
      "41396e2fdb944a8ba468b8efce2eb29d",
      "30ffd7fef86c458da07bbf7fe1e5b071",
      "f9be6b1854b34547910f3e10cb9238dc",
      "6a4fcf5dc14c4b89a589ca3451d96df4",
      "3deb880f331f4bed815567ed11bc4372",
      "7ad6f080b3d746b38666b514cf794495",
      "fa2beb2e21154057a56a711e723c314c",
      "e0789eb3635c42a19c1f25ef4e22b4fc",
      "b3b8c0e148854fba8e656225d1321fe0",
      "b1cb63c7c1614ac7b80bfb1b88148e21",
      "c4821cb59fe044ecae792a1701cf4d66",
      "47c087527d4240d28b86a6f1745eae38",
      "a1a7207c0d964631ab51298fa0a156da",
      "08761a0b5ff745bcb548d55cf2cd66ff",
      "68930151d0d5414aabd99a8135036af6",
      "cc50561524c64e368f82af9aa6d77f91",
      "15aaad5a92dc47cbbe2b8be8b6ff8a40",
      "6d67633b3f494d43b004620b3fdefa12",
      "a19a00f6a7b444d9b3d508574ce69652",
      "199664bfb27547b5bc11826a03dde60c",
      "d7897fefc90b4a24b749a1d881259b0a",
      "470c42781101456a9c4206ad2ca04796",
      "34dcb7266e244a189d7f364f34300f50",
      "2c40d003892a4dde9c0fa2acf71f0976",
      "e5e1989c4c9b4411add294920d22b5d7",
      "9e665d7dc19e4e95974934eb08bb639e",
      "9ae08a8baf9a45639eb8c45bcdf26fbe",
      "afe6c1ce400d4cfe86417ac4f26a0bfd",
      "fa785c74399c4a8f84c4ea0ce4d16be9",
      "b02f1cbc0097423c8d872cb3294421d4",
      "d5c54a0aa8984fc58bcd378093c8058c",
      "3e2d0f2e7042416a87a545dc91daa791",
      "f9801b9c2a4247309413dcda51130ae0",
      "3e0a05ee9e8c46978ea08e06d4d797a5",
      "2fe51e58556a4ffb9dcc2e0fbd3b7d2b",
      "728946dc5ac24655a8535b0efe1bd105"
     ]
    },
    "executionInfo": {
     "elapsed": 246461,
     "status": "ok",
     "timestamp": 1746438382880,
     "user": {
      "displayName": "Venishetty Shravya",
      "userId": "06676049657626120902"
     },
     "user_tz": -330
    },
    "id": "STWEOaujxUeQ",
    "outputId": "8929553f-c764-482e-ebaa-e150cdd4fc4c"
   },
   "outputs": [],
   "source": [
    "model, tokenizer = FastLanguageModel.from_pretrained(\n",
    "    model_name=\"unsloth/llama-3-8b-bnb-4bit\",\n",
    "    max_seq_length = max_seq_length,\n",
    "    dtype= None,\n",
    "    load_in_4bit=True\n",
    ")"
   ]
  },
  {
   "cell_type": "code",
   "execution_count": null,
   "metadata": {
    "colab": {
     "base_uri": "https://localhost:8080/",
     "height": 0
    },
    "executionInfo": {
     "elapsed": 12,
     "status": "ok",
     "timestamp": 1746439261176,
     "user": {
      "displayName": "Venishetty Shravya",
      "userId": "06676049657626120902"
     },
     "user_tz": -330
    },
    "id": "H1XFzZQ90yEB",
    "outputId": "2f2b738c-b0d7-47f7-e6e8-fef36c4a98bc"
   },
   "outputs": [],
   "source": [
    "model = FastLanguageModel.get_peft_model(\n",
    "    model,\n",
    "    r = 16,\n",
    "    target_modules = [\n",
    "        \"q_proj\", \"k_proj\", \"v_proj\", \"o_proj\",\n",
    "        \"gate_proj\", \"up_proj\", \"down_proj\",\n",
    "        \"dense_h_to_4h\", \"dense_4h_to_h\"\n",
    "    ],\n",
    "    lora_alpha = 16,\n",
    "    lora_dropout = 0,\n",
    "    bias = \"none\",\n",
    "    use_gradient_checkpointing = True,\n",
    "    random_state = 3407,\n",
    "    max_seq_length = max_seq_length\n",
    ")"
   ]
  },
  {
   "cell_type": "code",
   "execution_count": null,
   "metadata": {
    "colab": {
     "base_uri": "https://localhost:8080/",
     "height": 2408,
     "referenced_widgets": [
      "c7024dcd29034ed8848a04c5cf36a14d",
      "1863ccaaafb244a697cb2cb18d7be492",
      "38f1fdc8047b4b0d88b74bded4c66066",
      "a80fdb417a6f4a48a3a96b1b5f7c5300",
      "bccc12f1c06541be90d77592d926e191",
      "4dfbf0d05df74a0c80fbeedd45cf6314",
      "7b35072946f64fe8b9ffd0bd9ba21aa0",
      "f5b62b926508414388f7df2139b09ccf",
      "6fba5d23235445388d14488a992eb8ac",
      "cbb597d86168455aada5886aa31a69b6",
      "52379da709ca4ba092815e9b8311618d"
     ]
    },
    "executionInfo": {
     "elapsed": 1333330,
     "status": "ok",
     "timestamp": 1746441008502,
     "user": {
      "displayName": "Venishetty Shravya",
      "userId": "06676049657626120902"
     },
     "user_tz": -330
    },
    "id": "bA5nlzwg357V",
    "outputId": "c3eb9a58-e504-4456-e9d3-d182b24e05a6"
   },
   "outputs": [],
   "source": [
    "trainer = SFTTrainer(\n",
    "    model = model,\n",
    "    train_dataset=dataset,\n",
    "    dataset_text_field=\"text\",\n",
    "    max_seq_length=max_seq_length,\n",
    "    tokenizer=tokenizer,\n",
    "    args=TrainingArguments(\n",
    "        per_device_train_batch_size=2,\n",
    "        gradient_accumulation_steps=4,\n",
    "        warmup_steps=100,\n",
    "        max_steps=60,\n",
    "        fp16=not torch.cuda.is_bf16_supported(),\n",
    "        bf16=torch.cuda.is_bf16_supported(),\n",
    "        logging_steps=1,\n",
    "        output_dir=\"unsloth-test\",\n",
    "        optim=\"adamw_8bit\",\n",
    "        seed=3407\n",
    "    ),\n",
    ")\n",
    "trainer.train()"
   ]
  },
  {
   "cell_type": "code",
   "execution_count": null,
   "metadata": {
    "executionInfo": {
     "elapsed": 4,
     "status": "ok",
     "timestamp": 1746441024377,
     "user": {
      "displayName": "Venishetty Shravya",
      "userId": "06676049657626120902"
     },
     "user_tz": -330
    },
    "id": "M6UldRE66VWc"
   },
   "outputs": [],
   "source": [
    "inputs = tokenizer(\n",
    "    [\n",
    "        \"I really like the movie because it shows emotions and talks humanity\"\n",
    "    ],\n",
    "    return_tensors=\"pt\",\n",
    ").to(\"cuda\")"
   ]
  },
  {
   "cell_type": "code",
   "execution_count": null,
   "metadata": {
    "colab": {
     "base_uri": "https://localhost:8080/",
     "height": 0
    },
    "executionInfo": {
     "elapsed": 63,
     "status": "ok",
     "timestamp": 1746441026729,
     "user": {
      "displayName": "Venishetty Shravya",
      "userId": "06676049657626120902"
     },
     "user_tz": -330
    },
    "id": "a9KmwaNh-d3F",
    "outputId": "9071c7b5-c4cc-4d9e-c21f-61f32a208fef"
   },
   "outputs": [],
   "source": [
    "inputs"
   ]
  },
  {
   "cell_type": "code",
   "execution_count": null,
   "metadata": {
    "colab": {
     "base_uri": "https://localhost:8080/",
     "height": 0
    },
    "executionInfo": {
     "elapsed": 7130,
     "status": "ok",
     "timestamp": 1746441634679,
     "user": {
      "displayName": "Venishetty Shravya",
      "userId": "06676049657626120902"
     },
     "user_tz": -330
    },
    "id": "FOOD4H6K-iVF",
    "outputId": "ed88e879-fa48-4a90-c239-c0ff8df71ef6"
   },
   "outputs": [],
   "source": [
    "# Generate output from model\n",
    "outputs = model.generate(\n",
    "    **inputs,\n",
    "    max_new_tokens=128,\n",
    "    do_sample=True,\n",
    "    temperature=0.7,\n",
    "    top_p=0.9,\n",
    "    repetition_penalty=1.2,\n",
    "    eos_token_id=tokenizer.eos_token_id,\n",
    ")\n",
    "\n",
    "# Decode and clean the output\n",
    "decoded = tokenizer.batch_decode(outputs, skip_special_tokens=True)\n",
    "cleaned = [text.replace(\"\\n\", \" \").strip() for text in decoded]\n",
    "\n",
    "# Print the cleaned result\n",
    "print(cleaned[0])"
   ]
  },
  {
   "cell_type": "code",
   "execution_count": null,
   "metadata": {
    "colab": {
     "base_uri": "https://localhost:8080/",
     "height": 0
    },
    "executionInfo": {
     "elapsed": 146,
     "status": "ok",
     "timestamp": 1746441662803,
     "user": {
      "displayName": "Venishetty Shravya",
      "userId": "06676049657626120902"
     },
     "user_tz": -330
    },
    "id": "iX6j5Rno_45m",
    "outputId": "0101c50d-a676-4e26-b284-0cd690f72b3c"
   },
   "outputs": [],
   "source": [
    "outputs"
   ]
  },
  {
   "cell_type": "code",
   "execution_count": null,
   "metadata": {
    "colab": {
     "base_uri": "https://localhost:8080/",
     "height": 0
    },
    "executionInfo": {
     "elapsed": 27,
     "status": "ok",
     "timestamp": 1746441667629,
     "user": {
      "displayName": "Venishetty Shravya",
      "userId": "06676049657626120902"
     },
     "user_tz": -330
    },
    "id": "jtx13XBMAIm7",
    "outputId": "00b0a1c0-f713-4206-e2ad-3af667f4c0b2"
   },
   "outputs": [],
   "source": [
    "tokenizer.batch_decode(outputs)"
   ]
  },
  {
   "cell_type": "code",
   "execution_count": null,
   "metadata": {
    "executionInfo": {
     "elapsed": 2323,
     "status": "ok",
     "timestamp": 1746441800743,
     "user": {
      "displayName": "Venishetty Shravya",
      "userId": "06676049657626120902"
     },
     "user_tz": -330
    },
    "id": "-pSYsFj3AX2K"
   },
   "outputs": [],
   "source": [
    "model.save_pretrained(\"lora_model\")"
   ]
  },
  {
   "cell_type": "code",
   "execution_count": null,
   "metadata": {
    "colab": {
     "base_uri": "https://localhost:8080/",
     "height": 0
    },
    "executionInfo": {
     "elapsed": 157,
     "status": "ok",
     "timestamp": 1746444419019,
     "user": {
      "displayName": "Venishetty Shravya",
      "userId": "06676049657626120902"
     },
     "user_tz": -330
    },
    "id": "BuF9o7sKCwHN",
    "outputId": "aa7462af-9200-4d49-8572-f16666c81b56"
   },
   "outputs": [],
   "source": [
    "!ls -R /content"
   ]
  },
  {
   "cell_type": "code",
   "execution_count": null,
   "metadata": {
    "colab": {
     "base_uri": "https://localhost:8080/",
     "height": 1996
    },
    "executionInfo": {
     "elapsed": 30410,
     "status": "ok",
     "timestamp": 1746444802929,
     "user": {
      "displayName": "Venishetty Shravya",
      "userId": "06676049657626120902"
     },
     "user_tz": -330
    },
    "id": "sYfLezmEDfre",
    "outputId": "316dd1e0-df72-4926-816e-0acd0af984ba"
   },
   "outputs": [],
   "source": [
    "# Zip all required folders\n",
    "!zip -r /content/all_colab_folders.zip \\\n",
    "  /content/huggingface_tokenizers_cache \\\n",
    "  /content/lora_model \\\n",
    "  /content/sample_data \\\n",
    "  /content/unsloth-test \\\n",
    "  /content/unsloth_compiled_cache \\\n",
    "  /content/wandb\n",
    "\n",
    "# Download the zip file\n",
    "from google.colab import files\n",
    "files.download('/content/all_colab_folders.zip')"
   ]
  },
  {
   "cell_type": "code",
   "execution_count": null,
   "metadata": {
    "id": "2BQ9_2cIOGNj"
   },
   "outputs": [],
   "source": []
  }
 ],
 "metadata": {
  "accelerator": "GPU",
  "colab": {
   "authorship_tag": "ABX9TyOHAhZHp2AeW4osoBExRkWv",
   "gpuType": "T4",
   "provenance": []
  },
  "kernelspec": {
   "display_name": "Python 3",
   "name": "python3"
  },
  "language_info": {
   "name": "python"
  }
 },
 "nbformat": 4,
 "nbformat_minor": 0
}
